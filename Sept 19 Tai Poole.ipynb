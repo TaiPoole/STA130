{
 "cells": [
  {
   "cell_type": "code",
   "execution_count": 2,
   "id": "7be27e05",
   "metadata": {},
   "outputs": [
    {
     "name": "stdout",
     "output_type": "stream",
     "text": [
      "0.6678\n"
     ]
    }
   ],
   "source": [
    "import numpy as np\n",
    "\n",
    "# Function to simulate one round of the Monty Hall problem\n",
    "def monty_hall_simulation():\n",
    "    doors = [1, 2, 3]  # Three doors\n",
    "    winning_door = np.random.choice(doors)  # Randomly place the prize behind one door\n",
    "    initial_choice = np.random.choice(doors)  # The player makes an initial choice\n",
    "    \n",
    "    # A goat is revealed of the unknown doors\n",
    "    remaining_doors = [door for door in doors if door != initial_choice and door != winning_door]\n",
    "    monty_reveals = np.random.choice(remaining_doors)  # Monty reveals a goat\n",
    "    \n",
    "    # The player switches to the remaining unopened door\n",
    "    switch_choice = [door for door in doors if door != initial_choice and door != monty_reveals][0]\n",
    "    \n",
    "    # Return whether the player won\n",
    "    return switch_choice == winning_door\n",
    "\n",
    "# Function to run the simulation multiple times and calculate the win rate\n",
    "def run_simulation(reps):\n",
    "    wins = sum(monty_hall_simulation() for _ in range(reps))  # Count how many times the player wins\n",
    "    return wins / reps  # Return the fraction of wins\n",
    "\n",
    "# Run the simulation and print the result\n",
    "print(run_simulation(100000))"
   ]
  },
  {
   "cell_type": "markdown",
   "id": "9c6cdb57",
   "metadata": {},
   "source": [
    "#### ChatGPT Summary:\n",
    "Here's a concise summary of our discussion:\n",
    "\n",
    "Original Monte Hall Problem Code:\n",
    "\n",
    "You shared a Monte Hall problem simulation that uses a for-loop to simulate 100,000 rounds where the player always switches doors after Monty reveals a goat.\n",
    "We walked through each step of the code, explaining how it works, including door selection, Monty's reveal, switching strategy, and checking for a win.\n",
    "The code aimed to show that switching doors increases the chance of winning to about 2/3 (or 66.67%).\n",
    "Simplified Functional Code:\n",
    "\n",
    "We refactored the code into a more functional and concise version.\n",
    "monty_hall_simulation() function simulates a single round of the game, where:\n",
    "A winning door is randomly selected.\n",
    "The player picks a door, Monty reveals a goat, and the player switches to the remaining door.\n",
    "The function checks if switching results in a win.\n",
    "run_simulation() function runs multiple rounds of the game (100,000 by default) and calculates the percentage of wins when the player switches.\n",
    "Key Enhancements:\n",
    "\n",
    "The rewritten code is simpler, uses list comprehensions to remove unnecessary conditions, and separates logic into clear, reusable functions.\n",
    "The outcome still demonstrates that switching doors yields a 2/3 chance of winning.\n",
    "Let me know if you need further clarification or adjustments!\n",
    "#### ChatGPT Link\n",
    "https://chatgpt.com/c/66eb6b72-8c3c-8004-b487-373c61b0d130"
   ]
  },
  {
   "cell_type": "markdown",
   "id": "0c4421f9",
   "metadata": {},
   "source": [
    "6. Overall, the chatbots were very helpful with explaining the concepts in this homework. In the past, I know that ChatGPT has issues with synthesizing things like code, but when it comes to explaining already existing things its quite good. A little verbose, but verbose in a way thats thorough, even if some things might be understandable with a little less explaining. I had trouble understanding its initial explanation of the extension 2 for the markov code, but once I pried it more it gave away helpful info that made it clear to me."
   ]
  },
  {
   "cell_type": "markdown",
   "id": "7d54b98f",
   "metadata": {},
   "source": [
    "7. Honestly, I didn't have a very good opinion of using chatbots previously, but this course is challenging that a lot. I remember when I was studying for a physics midterm, I would ask it to come up with practice problems so I could study. But the problems it came up with would have impossibilities, or the answers would be wildly incorrect. Similar things happened when I would ask it for code. But what I'm realizing now is that 1) it has improved by a couple generations, and 2) it is really good at explaining and understanding things. Although it might not be perfect at synthesis, it can be a very powerful tool for breaking things down and teaching things."
   ]
  },
  {
   "cell_type": "markdown",
   "id": "bf822270",
   "metadata": {},
   "source": [
    "9. Yes, I have been using the textbook to help me understand the material. I missed some of the lecture on monday because of a doctors appointment so I used the wiki-textbook to catch up."
   ]
  },
  {
   "cell_type": "markdown",
   "id": "6784f7a5",
   "metadata": {},
   "source": [
    "#### ChatGPT Summary\n",
    "Certainly! Here’s a comprehensive summary of our discussion on Markovian chatbots and their extensions:\n",
    "\n",
    "1. Original Markov Chatbot Code:\n",
    "Concept: Implements a first-order Markov Chain for text generation.\n",
    "Data Structures:\n",
    "word_used: Counts occurrences of individual words.\n",
    "next_word: Tracks how frequently each word is followed by a specific next word.\n",
    "Functionality: Generates text by predicting the next word based on the current word, using observed frequencies.\n",
    "2. Extension #1: Second-Order Markov Chain:\n",
    "Concept: Extends the Markov Chain to second-order by using sequences of two words (word pairs) to predict the next word.\n",
    "Data Structures:\n",
    "word_used2: Counts occurrences of word pairs.\n",
    "next_word2: Tracks the next word following each word pair.\n",
    "Functionality: Provides a more context-aware text generation model by considering pairs of words.\n",
    "3. Extension #2: Character-Specific Modeling:\n",
    "Concept: Further extends the second-order Markov Chain to character-specific models.\n",
    "Data Structures:\n",
    "word_used2C: Counts occurrences of word pairs for each character.\n",
    "next_word2C: Tracks the next word following each word pair for each character.\n",
    "Functionality: Models speech patterns separately for different characters, capturing unique styles, accents, or dialects.\n",
    "Key Differences:\n",
    "Scope:\n",
    "Original Code: General model for all text data.\n",
    "Extension #1: Second-order model for broader context.\n",
    "Extension #2: Character-specific models for personalized dialogue.\n",
    "Complexity:\n",
    "Original Code: Basic, simple word-to-word transitions.\n",
    "Extension #1: Accounts for word pairs, offering more context.\n",
    "Extension #2: Adds complexity with separate models for each character, suitable for distinct speech styles.\n",
    "Applications:\n",
    "Original Code: Basic text generation where context beyond a single word isn’t needed.\n",
    "Extension #1: Better for generating text with word pairs, adding more contextual relevance.\n",
    "Extension #2: Ideal for creating dialogue that reflects different characters’ unique speech patterns, accents, or dialects.\n",
    "This summary captures the evolution from a simple first-order Markov model to more advanced second-order and character-specific models, highlighting how each extension adds more sophistication and relevance to text generation tasks.\n",
    "\n",
    "#### ChatGPT Link\n",
    "https://chatgpt.com/c/66eb7647-2c70-8004-a272-94e58a6cc850"
   ]
  }
 ],
 "metadata": {
  "kernelspec": {
   "display_name": "Python 3 (ipykernel)",
   "language": "python",
   "name": "python3"
  },
  "language_info": {
   "codemirror_mode": {
    "name": "ipython",
    "version": 3
   },
   "file_extension": ".py",
   "mimetype": "text/x-python",
   "name": "python",
   "nbconvert_exporter": "python",
   "pygments_lexer": "ipython3",
   "version": "3.11.6"
  }
 },
 "nbformat": 4,
 "nbformat_minor": 5
}
