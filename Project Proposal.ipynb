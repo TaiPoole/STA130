{
 "cells": [
  {
   "cell_type": "markdown",
   "id": "035603bd",
   "metadata": {},
   "source": [
    "Project Proposal, Tai Poole"
   ]
  },
  {
   "cell_type": "markdown",
   "id": "e306fcc5",
   "metadata": {},
   "source": [
    "// For my first question, I want to see if social media gives people meaningful social interactions.\n",
    "\n",
    "For my variable, I will be looking at the **CONNECTION_meaningful_interactions** variable as my output, and seeing if that has a connection with the **CONNECTION_social_media_time_per_day** variable. I would use a scatter plot for this data to try to see if there seems to be a loose connection visible for this.\n",
    "\n",
    "For my analysis, I would try to perform linear regression, and see if I could model a line to describe this data. My null hypothesis would be \"there is no connection between these two\", and an alternative would be that \"there is some impact on social media time to number of meaningful interactions per day\". I would then look at the coefficients of my model, and see the slope and if its non-zero, and then verify the integrity of my conclusion by looking at the R squared and p value of this data.\n",
    "\n",
    "My hypothesis is that there is no connection between time on social media and meaningful connections. I think that meaningful connection is more dependent on the people you talk to, instead of the amount of time you talk to, and I think that especially on social media it is possible for people to spend large amounts of time and reach no meaningful connection with people. \n",
    "\n",
    "This result would help us in seeing what types of socializing are the most productive, and to see if social media is a productive way for people to reach social fulfillment, or if its not the best use of peoples time."
   ]
  },
  {
   "cell_type": "markdown",
   "id": "a04c8050",
   "metadata": {},
   "source": [
    "//\n",
    "For my second question, I want to see if proximity is an important factor for two people to be close friends.\n",
    "\n",
    "For my variable, I will be looking at the **CONNECTION_close_friends_same_area_15_min_drive** variable, and seeing if that has a connection with the **CONNECTION_social_num_close_friends** variable. I would create a new variable that is the proportion of people whos friends are close, and then make a histogram to see the distribution, probably with bins of like 10%.\n",
    "\n",
    "For my analysis, I would use bootstrapping. My null hypothesis would be that the proportion should be 50%, or that a persons close friends do not regard distance. This would make the alternative hypothesis \"Whether a friend is 15 minutes away or not does have an impact on if they are a close friend\". I would bootstrap the data to collect a large amount of samples, and then plot a distribution and create a confidence interval, and then see if 50% is within that confidence interval.\n",
    "\n",
    "My hypothesis is that there is an impact on distance and a persons close friends. I have grown out of touch with my close friends who moved away to other universities, and I think a persons close friends\n",
    "\n",
    "This result would help show us how people form communities, and can tell us if online methods of communication are able to help keep important friendships."
   ]
  },
  {
   "cell_type": "markdown",
   "id": "809c20eb",
   "metadata": {},
   "source": [
    "// For my third question, I want to see if people being unhappy about their neighbourhood impacts their loneliness.\n",
    "\n",
    "For my variable, I will be looking at the **GEO_robinson_neighbourhood_cohesion_scale_move** variable, which asks if people would move out of their neighbourhood if they could. i will see if this impacts the **LONELINESS_chronic_loneliness** variable. I think I would try to visualize this using a group bar plot, having a yes no bar plot on whether they experience chronic loneliness (with the y axis being the count), and having that next to another group on whether they wanted to move out of the neighbourhood.\n",
    "\n",
    "For my analysis, I could use permutation testing. My null hypothesis would be \"The desire to move out of the neighborhood has no effect on chronic loneliness\", with the alternative being \"There is an effect of neighbourhood unsatisfaction on loneliness\". I would figure out the average of peoples happiness for each group, and then shift around the labels and recalculate many many times and make a distribution on it. From that distribution I would calculate the p value, and use that to see how much we can support/reject the null hypothesis.\n",
    "\n",
    "My hypothesis is that there isn't a significant connection. Personally, I knew very little of my neighbours at home, and times when I felt lonely/not lonely really didn't matter on my neighbours. I just think that although some people care about their neighbours, that is not universal to everybody, and is a generally low/not factor to overall loneliness.\n",
    "\n",
    "This result would help us in seeing the potential of making community with neighbours, and if its important to get to know those you live next to. If my hypothesis is wrong, this could suggest a very easy way for people to try to combat loneliness (get to know the very accessible people near you)."
   ]
  }
 ],
 "metadata": {
  "kernelspec": {
   "display_name": "Python 3 (ipykernel)",
   "language": "python",
   "name": "python3"
  },
  "language_info": {
   "codemirror_mode": {
    "name": "ipython",
    "version": 3
   },
   "file_extension": ".py",
   "mimetype": "text/x-python",
   "name": "python",
   "nbconvert_exporter": "python",
   "pygments_lexer": "ipython3",
   "version": "3.11.6"
  }
 },
 "nbformat": 4,
 "nbformat_minor": 5
}
