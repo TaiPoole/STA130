{
 "cells": [
  {
   "cell_type": "markdown",
   "id": "4726a87a",
   "metadata": {},
   "source": [
    "## Step 1: Data loading and cleaning"
   ]
  },
  {
   "cell_type": "code",
   "execution_count": 2,
   "id": "a6f56273",
   "metadata": {},
   "outputs": [],
   "source": [
    "#list of imports we'll use later\n",
    "import pandas as pd\n",
    "import seaborn as sns\n",
    "import matplotlib.pyplot as plt\n",
    "import numpy as np"
   ]
  },
  {
   "cell_type": "code",
   "execution_count": 3,
   "id": "2e2bcf58",
   "metadata": {},
   "outputs": [],
   "source": [
    "#load our dataset and store a master copy so we dont have to read it again during testing\n",
    "df_master = pd.read_csv(\"CSCS Data Anon.csv\", low_memory=False)\n",
    "df = df_master.copy()"
   ]
  },
  {
   "cell_type": "code",
   "execution_count": 4,
   "id": "2abca089",
   "metadata": {
    "scrolled": false
   },
   "outputs": [
    {
     "name": "stdout",
     "output_type": "stream",
     "text": [
      "(11431, 1794)\n"
     ]
    },
    {
     "data": {
      "text/html": [
       "<div>\n",
       "<style scoped>\n",
       "    .dataframe tbody tr th:only-of-type {\n",
       "        vertical-align: middle;\n",
       "    }\n",
       "\n",
       "    .dataframe tbody tr th {\n",
       "        vertical-align: top;\n",
       "    }\n",
       "\n",
       "    .dataframe thead th {\n",
       "        text-align: right;\n",
       "    }\n",
       "</style>\n",
       "<table border=\"1\" class=\"dataframe\">\n",
       "  <thead>\n",
       "    <tr style=\"text-align: right;\">\n",
       "      <th></th>\n",
       "      <th>UNIQUE_id</th>\n",
       "      <th>UNIQUE_num_records</th>\n",
       "      <th>ELIGIBLE_consent</th>\n",
       "      <th>GEO_residence_canada</th>\n",
       "      <th>GEO_province</th>\n",
       "      <th>DEMO_age</th>\n",
       "      <th>DEMO_gender</th>\n",
       "      <th>DEMO_identity_vetrans</th>\n",
       "      <th>DEMO_identity_indigenous</th>\n",
       "      <th>DEMO_identity_lgbtq</th>\n",
       "      <th>...</th>\n",
       "      <th>PSYCH_body_self_image_questionnaire_height_dissatisfaction_score</th>\n",
       "      <th>PSYCH_body_self_image_questionnaire_fatness_evaluation_score</th>\n",
       "      <th>PSYCH_body_self_image_questionnaire_negative_affect_score</th>\n",
       "      <th>PSYCH_body_self_image_questionnaire_social_dependence_score</th>\n",
       "      <th>PSYCH_big_five_inventory_agreeable_score</th>\n",
       "      <th>PSYCH_big_five_inventory_conscientious_score</th>\n",
       "      <th>PSYCH_big_five_inventory_extraverted_score</th>\n",
       "      <th>PSYCH_big_five_inventory_neurotic_score</th>\n",
       "      <th>PSYCH_big_five_inventory_open_score</th>\n",
       "      <th>REMOVE_case</th>\n",
       "    </tr>\n",
       "  </thead>\n",
       "  <tbody>\n",
       "    <tr>\n",
       "      <th>0</th>\n",
       "      <td>cscs_00001</td>\n",
       "      <td>1</td>\n",
       "      <td>Yes</td>\n",
       "      <td>Yes</td>\n",
       "      <td>British Columbia</td>\n",
       "      <td>71.0</td>\n",
       "      <td>Non-binary</td>\n",
       "      <td>NaN</td>\n",
       "      <td>NaN</td>\n",
       "      <td>Sexual or gender minorities (e.g., LGBTQ2+)</td>\n",
       "      <td>...</td>\n",
       "      <td>NaN</td>\n",
       "      <td>NaN</td>\n",
       "      <td>NaN</td>\n",
       "      <td>NaN</td>\n",
       "      <td>NaN</td>\n",
       "      <td>NaN</td>\n",
       "      <td>NaN</td>\n",
       "      <td>NaN</td>\n",
       "      <td>NaN</td>\n",
       "      <td>No</td>\n",
       "    </tr>\n",
       "    <tr>\n",
       "      <th>1</th>\n",
       "      <td>cscs_00002</td>\n",
       "      <td>1</td>\n",
       "      <td>Yes</td>\n",
       "      <td>Yes</td>\n",
       "      <td>Ontario</td>\n",
       "      <td>69.0</td>\n",
       "      <td>Woman</td>\n",
       "      <td>NaN</td>\n",
       "      <td>NaN</td>\n",
       "      <td>Not Selected</td>\n",
       "      <td>...</td>\n",
       "      <td>3.0</td>\n",
       "      <td>8.0</td>\n",
       "      <td>3.0</td>\n",
       "      <td>3.0</td>\n",
       "      <td>NaN</td>\n",
       "      <td>NaN</td>\n",
       "      <td>NaN</td>\n",
       "      <td>NaN</td>\n",
       "      <td>NaN</td>\n",
       "      <td>No</td>\n",
       "    </tr>\n",
       "    <tr>\n",
       "      <th>2</th>\n",
       "      <td>cscs_00003</td>\n",
       "      <td>1</td>\n",
       "      <td>Yes</td>\n",
       "      <td>Yes</td>\n",
       "      <td>Quebec</td>\n",
       "      <td>56.0</td>\n",
       "      <td>Woman</td>\n",
       "      <td>NaN</td>\n",
       "      <td>NaN</td>\n",
       "      <td>Not Selected</td>\n",
       "      <td>...</td>\n",
       "      <td>NaN</td>\n",
       "      <td>NaN</td>\n",
       "      <td>NaN</td>\n",
       "      <td>NaN</td>\n",
       "      <td>NaN</td>\n",
       "      <td>NaN</td>\n",
       "      <td>NaN</td>\n",
       "      <td>NaN</td>\n",
       "      <td>NaN</td>\n",
       "      <td>No</td>\n",
       "    </tr>\n",
       "    <tr>\n",
       "      <th>3</th>\n",
       "      <td>cscs_00005</td>\n",
       "      <td>1</td>\n",
       "      <td>Yes</td>\n",
       "      <td>Yes</td>\n",
       "      <td>NaN</td>\n",
       "      <td>54.0</td>\n",
       "      <td>Woman</td>\n",
       "      <td>NaN</td>\n",
       "      <td>NaN</td>\n",
       "      <td>Not Selected</td>\n",
       "      <td>...</td>\n",
       "      <td>NaN</td>\n",
       "      <td>NaN</td>\n",
       "      <td>NaN</td>\n",
       "      <td>NaN</td>\n",
       "      <td>28.0</td>\n",
       "      <td>34.0</td>\n",
       "      <td>30.0</td>\n",
       "      <td>32.0</td>\n",
       "      <td>37.0</td>\n",
       "      <td>No</td>\n",
       "    </tr>\n",
       "    <tr>\n",
       "      <th>4</th>\n",
       "      <td>cscs_00006</td>\n",
       "      <td>1</td>\n",
       "      <td>Yes</td>\n",
       "      <td>Yes</td>\n",
       "      <td>Ontario</td>\n",
       "      <td>30.0</td>\n",
       "      <td>Man</td>\n",
       "      <td>Not Selected</td>\n",
       "      <td>Indigenous peoples (e.g., First Nations, Métis...</td>\n",
       "      <td>Sexual or gender minorities (e.g., LGBTQ2+)</td>\n",
       "      <td>...</td>\n",
       "      <td>NaN</td>\n",
       "      <td>NaN</td>\n",
       "      <td>NaN</td>\n",
       "      <td>NaN</td>\n",
       "      <td>NaN</td>\n",
       "      <td>NaN</td>\n",
       "      <td>NaN</td>\n",
       "      <td>NaN</td>\n",
       "      <td>NaN</td>\n",
       "      <td>No</td>\n",
       "    </tr>\n",
       "    <tr>\n",
       "      <th>5</th>\n",
       "      <td>cscs_00007</td>\n",
       "      <td>1</td>\n",
       "      <td>Yes</td>\n",
       "      <td>Yes</td>\n",
       "      <td>Ontario</td>\n",
       "      <td>55.0</td>\n",
       "      <td>Woman</td>\n",
       "      <td>NaN</td>\n",
       "      <td>NaN</td>\n",
       "      <td>Not Selected</td>\n",
       "      <td>...</td>\n",
       "      <td>NaN</td>\n",
       "      <td>NaN</td>\n",
       "      <td>NaN</td>\n",
       "      <td>NaN</td>\n",
       "      <td>NaN</td>\n",
       "      <td>NaN</td>\n",
       "      <td>NaN</td>\n",
       "      <td>NaN</td>\n",
       "      <td>NaN</td>\n",
       "      <td>No</td>\n",
       "    </tr>\n",
       "    <tr>\n",
       "      <th>6</th>\n",
       "      <td>cscs_00008</td>\n",
       "      <td>1</td>\n",
       "      <td>Yes</td>\n",
       "      <td>Yes</td>\n",
       "      <td>NaN</td>\n",
       "      <td>50.0</td>\n",
       "      <td>Woman</td>\n",
       "      <td>NaN</td>\n",
       "      <td>NaN</td>\n",
       "      <td>Not Selected</td>\n",
       "      <td>...</td>\n",
       "      <td>NaN</td>\n",
       "      <td>NaN</td>\n",
       "      <td>NaN</td>\n",
       "      <td>NaN</td>\n",
       "      <td>30.0</td>\n",
       "      <td>30.0</td>\n",
       "      <td>17.0</td>\n",
       "      <td>31.0</td>\n",
       "      <td>43.0</td>\n",
       "      <td>No</td>\n",
       "    </tr>\n",
       "    <tr>\n",
       "      <th>7</th>\n",
       "      <td>cscs_00009</td>\n",
       "      <td>1</td>\n",
       "      <td>Yes</td>\n",
       "      <td>Yes</td>\n",
       "      <td>Ontario</td>\n",
       "      <td>52.0</td>\n",
       "      <td>Woman</td>\n",
       "      <td>NaN</td>\n",
       "      <td>NaN</td>\n",
       "      <td>Not Selected</td>\n",
       "      <td>...</td>\n",
       "      <td>15.0</td>\n",
       "      <td>15.0</td>\n",
       "      <td>15.0</td>\n",
       "      <td>11.0</td>\n",
       "      <td>NaN</td>\n",
       "      <td>NaN</td>\n",
       "      <td>NaN</td>\n",
       "      <td>NaN</td>\n",
       "      <td>NaN</td>\n",
       "      <td>No</td>\n",
       "    </tr>\n",
       "    <tr>\n",
       "      <th>8</th>\n",
       "      <td>cscs_00010</td>\n",
       "      <td>1</td>\n",
       "      <td>Yes</td>\n",
       "      <td>Yes</td>\n",
       "      <td>Nova Scotia</td>\n",
       "      <td>66.0</td>\n",
       "      <td>Man</td>\n",
       "      <td>Not Selected</td>\n",
       "      <td>Not Selected</td>\n",
       "      <td>Sexual or gender minorities (e.g., LGBTQ2+)</td>\n",
       "      <td>...</td>\n",
       "      <td>NaN</td>\n",
       "      <td>NaN</td>\n",
       "      <td>NaN</td>\n",
       "      <td>NaN</td>\n",
       "      <td>NaN</td>\n",
       "      <td>NaN</td>\n",
       "      <td>NaN</td>\n",
       "      <td>NaN</td>\n",
       "      <td>NaN</td>\n",
       "      <td>No</td>\n",
       "    </tr>\n",
       "    <tr>\n",
       "      <th>9</th>\n",
       "      <td>cscs_00011</td>\n",
       "      <td>1</td>\n",
       "      <td>Yes</td>\n",
       "      <td>Yes</td>\n",
       "      <td>British Columbia</td>\n",
       "      <td>76.0</td>\n",
       "      <td>Woman</td>\n",
       "      <td>NaN</td>\n",
       "      <td>NaN</td>\n",
       "      <td>Sexual or gender minorities (e.g., LGBTQ2+)</td>\n",
       "      <td>...</td>\n",
       "      <td>NaN</td>\n",
       "      <td>NaN</td>\n",
       "      <td>NaN</td>\n",
       "      <td>NaN</td>\n",
       "      <td>NaN</td>\n",
       "      <td>NaN</td>\n",
       "      <td>NaN</td>\n",
       "      <td>NaN</td>\n",
       "      <td>NaN</td>\n",
       "      <td>No</td>\n",
       "    </tr>\n",
       "    <tr>\n",
       "      <th>10</th>\n",
       "      <td>cscs_00012</td>\n",
       "      <td>1</td>\n",
       "      <td>Yes</td>\n",
       "      <td>Yes</td>\n",
       "      <td>Ontario</td>\n",
       "      <td>27.0</td>\n",
       "      <td>Woman</td>\n",
       "      <td>Not Selected</td>\n",
       "      <td>Not Selected</td>\n",
       "      <td>Sexual or gender minorities (e.g., LGBTQ2+)</td>\n",
       "      <td>...</td>\n",
       "      <td>NaN</td>\n",
       "      <td>NaN</td>\n",
       "      <td>NaN</td>\n",
       "      <td>NaN</td>\n",
       "      <td>NaN</td>\n",
       "      <td>NaN</td>\n",
       "      <td>NaN</td>\n",
       "      <td>NaN</td>\n",
       "      <td>NaN</td>\n",
       "      <td>No</td>\n",
       "    </tr>\n",
       "    <tr>\n",
       "      <th>11</th>\n",
       "      <td>cscs_00013</td>\n",
       "      <td>1</td>\n",
       "      <td>Yes</td>\n",
       "      <td>Yes</td>\n",
       "      <td>British Columbia</td>\n",
       "      <td>49.0</td>\n",
       "      <td>Woman</td>\n",
       "      <td>NaN</td>\n",
       "      <td>Indigenous peoples (e.g., First Nations, Métis...</td>\n",
       "      <td>Not Selected</td>\n",
       "      <td>...</td>\n",
       "      <td>NaN</td>\n",
       "      <td>NaN</td>\n",
       "      <td>NaN</td>\n",
       "      <td>NaN</td>\n",
       "      <td>NaN</td>\n",
       "      <td>NaN</td>\n",
       "      <td>NaN</td>\n",
       "      <td>NaN</td>\n",
       "      <td>NaN</td>\n",
       "      <td>No</td>\n",
       "    </tr>\n",
       "    <tr>\n",
       "      <th>12</th>\n",
       "      <td>cscs_00014</td>\n",
       "      <td>1</td>\n",
       "      <td>Yes</td>\n",
       "      <td>Yes</td>\n",
       "      <td>Alberta</td>\n",
       "      <td>57.0</td>\n",
       "      <td>NaN</td>\n",
       "      <td>NaN</td>\n",
       "      <td>NaN</td>\n",
       "      <td>NaN</td>\n",
       "      <td>...</td>\n",
       "      <td>NaN</td>\n",
       "      <td>NaN</td>\n",
       "      <td>NaN</td>\n",
       "      <td>NaN</td>\n",
       "      <td>NaN</td>\n",
       "      <td>NaN</td>\n",
       "      <td>NaN</td>\n",
       "      <td>NaN</td>\n",
       "      <td>NaN</td>\n",
       "      <td>No</td>\n",
       "    </tr>\n",
       "    <tr>\n",
       "      <th>13</th>\n",
       "      <td>cscs_00015</td>\n",
       "      <td>1</td>\n",
       "      <td>Yes</td>\n",
       "      <td>Yes</td>\n",
       "      <td>British Columbia</td>\n",
       "      <td>48.0</td>\n",
       "      <td>Woman</td>\n",
       "      <td>Not Selected</td>\n",
       "      <td>Not Selected</td>\n",
       "      <td>Not Selected</td>\n",
       "      <td>...</td>\n",
       "      <td>NaN</td>\n",
       "      <td>NaN</td>\n",
       "      <td>NaN</td>\n",
       "      <td>NaN</td>\n",
       "      <td>NaN</td>\n",
       "      <td>NaN</td>\n",
       "      <td>NaN</td>\n",
       "      <td>NaN</td>\n",
       "      <td>NaN</td>\n",
       "      <td>No</td>\n",
       "    </tr>\n",
       "    <tr>\n",
       "      <th>14</th>\n",
       "      <td>cscs_00016</td>\n",
       "      <td>1</td>\n",
       "      <td>Yes</td>\n",
       "      <td>Yes</td>\n",
       "      <td>NaN</td>\n",
       "      <td>57.0</td>\n",
       "      <td>NaN</td>\n",
       "      <td>NaN</td>\n",
       "      <td>NaN</td>\n",
       "      <td>NaN</td>\n",
       "      <td>...</td>\n",
       "      <td>NaN</td>\n",
       "      <td>NaN</td>\n",
       "      <td>NaN</td>\n",
       "      <td>NaN</td>\n",
       "      <td>36.0</td>\n",
       "      <td>32.0</td>\n",
       "      <td>28.0</td>\n",
       "      <td>25.0</td>\n",
       "      <td>NaN</td>\n",
       "      <td>No</td>\n",
       "    </tr>\n",
       "    <tr>\n",
       "      <th>15</th>\n",
       "      <td>cscs_00017</td>\n",
       "      <td>1</td>\n",
       "      <td>Yes</td>\n",
       "      <td>Yes</td>\n",
       "      <td>British Columbia</td>\n",
       "      <td>54.0</td>\n",
       "      <td>Woman</td>\n",
       "      <td>NaN</td>\n",
       "      <td>NaN</td>\n",
       "      <td>Not Selected</td>\n",
       "      <td>...</td>\n",
       "      <td>NaN</td>\n",
       "      <td>NaN</td>\n",
       "      <td>NaN</td>\n",
       "      <td>NaN</td>\n",
       "      <td>NaN</td>\n",
       "      <td>NaN</td>\n",
       "      <td>NaN</td>\n",
       "      <td>NaN</td>\n",
       "      <td>NaN</td>\n",
       "      <td>No</td>\n",
       "    </tr>\n",
       "    <tr>\n",
       "      <th>16</th>\n",
       "      <td>cscs_00018</td>\n",
       "      <td>1</td>\n",
       "      <td>Yes</td>\n",
       "      <td>Yes</td>\n",
       "      <td>British Columbia</td>\n",
       "      <td>74.0</td>\n",
       "      <td>NaN</td>\n",
       "      <td>NaN</td>\n",
       "      <td>NaN</td>\n",
       "      <td>NaN</td>\n",
       "      <td>...</td>\n",
       "      <td>NaN</td>\n",
       "      <td>NaN</td>\n",
       "      <td>NaN</td>\n",
       "      <td>NaN</td>\n",
       "      <td>NaN</td>\n",
       "      <td>NaN</td>\n",
       "      <td>NaN</td>\n",
       "      <td>NaN</td>\n",
       "      <td>NaN</td>\n",
       "      <td>No</td>\n",
       "    </tr>\n",
       "    <tr>\n",
       "      <th>17</th>\n",
       "      <td>cscs_00019</td>\n",
       "      <td>1</td>\n",
       "      <td>Yes</td>\n",
       "      <td>Yes</td>\n",
       "      <td>NaN</td>\n",
       "      <td>38.0</td>\n",
       "      <td>NaN</td>\n",
       "      <td>NaN</td>\n",
       "      <td>NaN</td>\n",
       "      <td>NaN</td>\n",
       "      <td>...</td>\n",
       "      <td>NaN</td>\n",
       "      <td>NaN</td>\n",
       "      <td>NaN</td>\n",
       "      <td>NaN</td>\n",
       "      <td>30.0</td>\n",
       "      <td>36.0</td>\n",
       "      <td>18.0</td>\n",
       "      <td>25.0</td>\n",
       "      <td>38.0</td>\n",
       "      <td>No</td>\n",
       "    </tr>\n",
       "    <tr>\n",
       "      <th>18</th>\n",
       "      <td>cscs_00020</td>\n",
       "      <td>1</td>\n",
       "      <td>Yes</td>\n",
       "      <td>Yes</td>\n",
       "      <td>British Columbia</td>\n",
       "      <td>50.0</td>\n",
       "      <td>Woman</td>\n",
       "      <td>Not Selected</td>\n",
       "      <td>Not Selected</td>\n",
       "      <td>Not Selected</td>\n",
       "      <td>...</td>\n",
       "      <td>NaN</td>\n",
       "      <td>NaN</td>\n",
       "      <td>NaN</td>\n",
       "      <td>NaN</td>\n",
       "      <td>NaN</td>\n",
       "      <td>NaN</td>\n",
       "      <td>NaN</td>\n",
       "      <td>NaN</td>\n",
       "      <td>NaN</td>\n",
       "      <td>No</td>\n",
       "    </tr>\n",
       "    <tr>\n",
       "      <th>19</th>\n",
       "      <td>cscs_00021</td>\n",
       "      <td>3</td>\n",
       "      <td>Yes</td>\n",
       "      <td>Yes</td>\n",
       "      <td>Alberta</td>\n",
       "      <td>73.0</td>\n",
       "      <td>Woman</td>\n",
       "      <td>Not Selected</td>\n",
       "      <td>Not Selected</td>\n",
       "      <td>Not Selected</td>\n",
       "      <td>...</td>\n",
       "      <td>NaN</td>\n",
       "      <td>NaN</td>\n",
       "      <td>NaN</td>\n",
       "      <td>NaN</td>\n",
       "      <td>NaN</td>\n",
       "      <td>NaN</td>\n",
       "      <td>NaN</td>\n",
       "      <td>NaN</td>\n",
       "      <td>NaN</td>\n",
       "      <td>No</td>\n",
       "    </tr>\n",
       "  </tbody>\n",
       "</table>\n",
       "<p>20 rows × 1794 columns</p>\n",
       "</div>"
      ],
      "text/plain": [
       "     UNIQUE_id  UNIQUE_num_records ELIGIBLE_consent GEO_residence_canada  \\\n",
       "0   cscs_00001                   1              Yes                  Yes   \n",
       "1   cscs_00002                   1              Yes                  Yes   \n",
       "2   cscs_00003                   1              Yes                  Yes   \n",
       "3   cscs_00005                   1              Yes                  Yes   \n",
       "4   cscs_00006                   1              Yes                  Yes   \n",
       "5   cscs_00007                   1              Yes                  Yes   \n",
       "6   cscs_00008                   1              Yes                  Yes   \n",
       "7   cscs_00009                   1              Yes                  Yes   \n",
       "8   cscs_00010                   1              Yes                  Yes   \n",
       "9   cscs_00011                   1              Yes                  Yes   \n",
       "10  cscs_00012                   1              Yes                  Yes   \n",
       "11  cscs_00013                   1              Yes                  Yes   \n",
       "12  cscs_00014                   1              Yes                  Yes   \n",
       "13  cscs_00015                   1              Yes                  Yes   \n",
       "14  cscs_00016                   1              Yes                  Yes   \n",
       "15  cscs_00017                   1              Yes                  Yes   \n",
       "16  cscs_00018                   1              Yes                  Yes   \n",
       "17  cscs_00019                   1              Yes                  Yes   \n",
       "18  cscs_00020                   1              Yes                  Yes   \n",
       "19  cscs_00021                   3              Yes                  Yes   \n",
       "\n",
       "        GEO_province  DEMO_age DEMO_gender DEMO_identity_vetrans  \\\n",
       "0   British Columbia      71.0  Non-binary                   NaN   \n",
       "1            Ontario      69.0       Woman                   NaN   \n",
       "2             Quebec      56.0       Woman                   NaN   \n",
       "3                NaN      54.0       Woman                   NaN   \n",
       "4            Ontario      30.0         Man          Not Selected   \n",
       "5            Ontario      55.0       Woman                   NaN   \n",
       "6                NaN      50.0       Woman                   NaN   \n",
       "7            Ontario      52.0       Woman                   NaN   \n",
       "8        Nova Scotia      66.0         Man          Not Selected   \n",
       "9   British Columbia      76.0       Woman                   NaN   \n",
       "10           Ontario      27.0       Woman          Not Selected   \n",
       "11  British Columbia      49.0       Woman                   NaN   \n",
       "12           Alberta      57.0         NaN                   NaN   \n",
       "13  British Columbia      48.0       Woman          Not Selected   \n",
       "14               NaN      57.0         NaN                   NaN   \n",
       "15  British Columbia      54.0       Woman                   NaN   \n",
       "16  British Columbia      74.0         NaN                   NaN   \n",
       "17               NaN      38.0         NaN                   NaN   \n",
       "18  British Columbia      50.0       Woman          Not Selected   \n",
       "19           Alberta      73.0       Woman          Not Selected   \n",
       "\n",
       "                             DEMO_identity_indigenous  \\\n",
       "0                                                 NaN   \n",
       "1                                                 NaN   \n",
       "2                                                 NaN   \n",
       "3                                                 NaN   \n",
       "4   Indigenous peoples (e.g., First Nations, Métis...   \n",
       "5                                                 NaN   \n",
       "6                                                 NaN   \n",
       "7                                                 NaN   \n",
       "8                                        Not Selected   \n",
       "9                                                 NaN   \n",
       "10                                       Not Selected   \n",
       "11  Indigenous peoples (e.g., First Nations, Métis...   \n",
       "12                                                NaN   \n",
       "13                                       Not Selected   \n",
       "14                                                NaN   \n",
       "15                                                NaN   \n",
       "16                                                NaN   \n",
       "17                                                NaN   \n",
       "18                                       Not Selected   \n",
       "19                                       Not Selected   \n",
       "\n",
       "                            DEMO_identity_lgbtq  ...  \\\n",
       "0   Sexual or gender minorities (e.g., LGBTQ2+)  ...   \n",
       "1                                  Not Selected  ...   \n",
       "2                                  Not Selected  ...   \n",
       "3                                  Not Selected  ...   \n",
       "4   Sexual or gender minorities (e.g., LGBTQ2+)  ...   \n",
       "5                                  Not Selected  ...   \n",
       "6                                  Not Selected  ...   \n",
       "7                                  Not Selected  ...   \n",
       "8   Sexual or gender minorities (e.g., LGBTQ2+)  ...   \n",
       "9   Sexual or gender minorities (e.g., LGBTQ2+)  ...   \n",
       "10  Sexual or gender minorities (e.g., LGBTQ2+)  ...   \n",
       "11                                 Not Selected  ...   \n",
       "12                                          NaN  ...   \n",
       "13                                 Not Selected  ...   \n",
       "14                                          NaN  ...   \n",
       "15                                 Not Selected  ...   \n",
       "16                                          NaN  ...   \n",
       "17                                          NaN  ...   \n",
       "18                                 Not Selected  ...   \n",
       "19                                 Not Selected  ...   \n",
       "\n",
       "   PSYCH_body_self_image_questionnaire_height_dissatisfaction_score  \\\n",
       "0                                                 NaN                 \n",
       "1                                                 3.0                 \n",
       "2                                                 NaN                 \n",
       "3                                                 NaN                 \n",
       "4                                                 NaN                 \n",
       "5                                                 NaN                 \n",
       "6                                                 NaN                 \n",
       "7                                                15.0                 \n",
       "8                                                 NaN                 \n",
       "9                                                 NaN                 \n",
       "10                                                NaN                 \n",
       "11                                                NaN                 \n",
       "12                                                NaN                 \n",
       "13                                                NaN                 \n",
       "14                                                NaN                 \n",
       "15                                                NaN                 \n",
       "16                                                NaN                 \n",
       "17                                                NaN                 \n",
       "18                                                NaN                 \n",
       "19                                                NaN                 \n",
       "\n",
       "   PSYCH_body_self_image_questionnaire_fatness_evaluation_score  \\\n",
       "0                                                 NaN             \n",
       "1                                                 8.0             \n",
       "2                                                 NaN             \n",
       "3                                                 NaN             \n",
       "4                                                 NaN             \n",
       "5                                                 NaN             \n",
       "6                                                 NaN             \n",
       "7                                                15.0             \n",
       "8                                                 NaN             \n",
       "9                                                 NaN             \n",
       "10                                                NaN             \n",
       "11                                                NaN             \n",
       "12                                                NaN             \n",
       "13                                                NaN             \n",
       "14                                                NaN             \n",
       "15                                                NaN             \n",
       "16                                                NaN             \n",
       "17                                                NaN             \n",
       "18                                                NaN             \n",
       "19                                                NaN             \n",
       "\n",
       "   PSYCH_body_self_image_questionnaire_negative_affect_score  \\\n",
       "0                                                 NaN          \n",
       "1                                                 3.0          \n",
       "2                                                 NaN          \n",
       "3                                                 NaN          \n",
       "4                                                 NaN          \n",
       "5                                                 NaN          \n",
       "6                                                 NaN          \n",
       "7                                                15.0          \n",
       "8                                                 NaN          \n",
       "9                                                 NaN          \n",
       "10                                                NaN          \n",
       "11                                                NaN          \n",
       "12                                                NaN          \n",
       "13                                                NaN          \n",
       "14                                                NaN          \n",
       "15                                                NaN          \n",
       "16                                                NaN          \n",
       "17                                                NaN          \n",
       "18                                                NaN          \n",
       "19                                                NaN          \n",
       "\n",
       "   PSYCH_body_self_image_questionnaire_social_dependence_score  \\\n",
       "0                                                 NaN            \n",
       "1                                                 3.0            \n",
       "2                                                 NaN            \n",
       "3                                                 NaN            \n",
       "4                                                 NaN            \n",
       "5                                                 NaN            \n",
       "6                                                 NaN            \n",
       "7                                                11.0            \n",
       "8                                                 NaN            \n",
       "9                                                 NaN            \n",
       "10                                                NaN            \n",
       "11                                                NaN            \n",
       "12                                                NaN            \n",
       "13                                                NaN            \n",
       "14                                                NaN            \n",
       "15                                                NaN            \n",
       "16                                                NaN            \n",
       "17                                                NaN            \n",
       "18                                                NaN            \n",
       "19                                                NaN            \n",
       "\n",
       "   PSYCH_big_five_inventory_agreeable_score  \\\n",
       "0                                       NaN   \n",
       "1                                       NaN   \n",
       "2                                       NaN   \n",
       "3                                      28.0   \n",
       "4                                       NaN   \n",
       "5                                       NaN   \n",
       "6                                      30.0   \n",
       "7                                       NaN   \n",
       "8                                       NaN   \n",
       "9                                       NaN   \n",
       "10                                      NaN   \n",
       "11                                      NaN   \n",
       "12                                      NaN   \n",
       "13                                      NaN   \n",
       "14                                     36.0   \n",
       "15                                      NaN   \n",
       "16                                      NaN   \n",
       "17                                     30.0   \n",
       "18                                      NaN   \n",
       "19                                      NaN   \n",
       "\n",
       "   PSYCH_big_five_inventory_conscientious_score  \\\n",
       "0                                           NaN   \n",
       "1                                           NaN   \n",
       "2                                           NaN   \n",
       "3                                          34.0   \n",
       "4                                           NaN   \n",
       "5                                           NaN   \n",
       "6                                          30.0   \n",
       "7                                           NaN   \n",
       "8                                           NaN   \n",
       "9                                           NaN   \n",
       "10                                          NaN   \n",
       "11                                          NaN   \n",
       "12                                          NaN   \n",
       "13                                          NaN   \n",
       "14                                         32.0   \n",
       "15                                          NaN   \n",
       "16                                          NaN   \n",
       "17                                         36.0   \n",
       "18                                          NaN   \n",
       "19                                          NaN   \n",
       "\n",
       "   PSYCH_big_five_inventory_extraverted_score  \\\n",
       "0                                         NaN   \n",
       "1                                         NaN   \n",
       "2                                         NaN   \n",
       "3                                        30.0   \n",
       "4                                         NaN   \n",
       "5                                         NaN   \n",
       "6                                        17.0   \n",
       "7                                         NaN   \n",
       "8                                         NaN   \n",
       "9                                         NaN   \n",
       "10                                        NaN   \n",
       "11                                        NaN   \n",
       "12                                        NaN   \n",
       "13                                        NaN   \n",
       "14                                       28.0   \n",
       "15                                        NaN   \n",
       "16                                        NaN   \n",
       "17                                       18.0   \n",
       "18                                        NaN   \n",
       "19                                        NaN   \n",
       "\n",
       "   PSYCH_big_five_inventory_neurotic_score  \\\n",
       "0                                      NaN   \n",
       "1                                      NaN   \n",
       "2                                      NaN   \n",
       "3                                     32.0   \n",
       "4                                      NaN   \n",
       "5                                      NaN   \n",
       "6                                     31.0   \n",
       "7                                      NaN   \n",
       "8                                      NaN   \n",
       "9                                      NaN   \n",
       "10                                     NaN   \n",
       "11                                     NaN   \n",
       "12                                     NaN   \n",
       "13                                     NaN   \n",
       "14                                    25.0   \n",
       "15                                     NaN   \n",
       "16                                     NaN   \n",
       "17                                    25.0   \n",
       "18                                     NaN   \n",
       "19                                     NaN   \n",
       "\n",
       "   PSYCH_big_five_inventory_open_score REMOVE_case  \n",
       "0                                  NaN          No  \n",
       "1                                  NaN          No  \n",
       "2                                  NaN          No  \n",
       "3                                 37.0          No  \n",
       "4                                  NaN          No  \n",
       "5                                  NaN          No  \n",
       "6                                 43.0          No  \n",
       "7                                  NaN          No  \n",
       "8                                  NaN          No  \n",
       "9                                  NaN          No  \n",
       "10                                 NaN          No  \n",
       "11                                 NaN          No  \n",
       "12                                 NaN          No  \n",
       "13                                 NaN          No  \n",
       "14                                 NaN          No  \n",
       "15                                 NaN          No  \n",
       "16                                 NaN          No  \n",
       "17                                38.0          No  \n",
       "18                                 NaN          No  \n",
       "19                                 NaN          No  \n",
       "\n",
       "[20 rows x 1794 columns]"
      ]
     },
     "execution_count": 4,
     "metadata": {},
     "output_type": "execute_result"
    }
   ],
   "source": [
    "#understand the general look of the data\n",
    "print(df.shape)\n",
    "df.head(20)"
   ]
  },
  {
   "cell_type": "code",
   "execution_count": 5,
   "id": "ad940c7c",
   "metadata": {},
   "outputs": [
    {
     "data": {
      "text/plain": [
       "CONNECTION_social_barriers_language\n",
       "Not Selected                                         539\n",
       "There is a language barrier between me and others     50\n",
       "Presented but no response                             21\n",
       "Name: count, dtype: int64"
      ]
     },
     "execution_count": 5,
     "metadata": {},
     "output_type": "execute_result"
    }
   ],
   "source": [
    "#look at what the inputs look like\n",
    "df['CONNECTION_social_barriers_language'].value_counts()"
   ]
  },
  {
   "cell_type": "code",
   "execution_count": 6,
   "id": "316f18d2",
   "metadata": {},
   "outputs": [],
   "source": [
    "#clean na and \"not answered\" responses\n",
    "df = df.dropna(subset=['CONNECTION_social_barriers_language'])\n",
    "df = df[~df['CONNECTION_social_barriers_language'].isin([\"Presented but no response\"])]"
   ]
  },
  {
   "cell_type": "code",
   "execution_count": 7,
   "id": "b3854b4e",
   "metadata": {},
   "outputs": [
    {
     "data": {
      "text/plain": [
       "lang_barrier\n",
       "0    539\n",
       "1     50\n",
       "Name: count, dtype: int64"
      ]
     },
     "execution_count": 7,
     "metadata": {},
     "output_type": "execute_result"
    }
   ],
   "source": [
    "#turn the word answers into a binary input (1 if the option was selected)\n",
    "df.loc[:,'lang_barrier'] = df['CONNECTION_social_barriers_language'].map({\"Not Selected\": 0, \"There is a language barrier between me and others\": 1})\n",
    "df['lang_barrier'].value_counts()"
   ]
  },
  {
   "cell_type": "code",
   "execution_count": 8,
   "id": "def791eb",
   "metadata": {},
   "outputs": [
    {
     "name": "stdout",
     "output_type": "stream",
     "text": [
      "0\n"
     ]
    }
   ],
   "source": [
    "#ensure we have no null values\n",
    "print(df['lang_barrier'].isnull().sum())"
   ]
  },
  {
   "cell_type": "code",
   "execution_count": 9,
   "id": "4682bf5a",
   "metadata": {},
   "outputs": [],
   "source": [
    "#drop entries with no value for the number of close friends (even if they have an answer for language barrier, its no use if they dont report the number of friends they have)\n",
    "df = df.dropna(subset=['CONNECTION_social_num_close_friends'])"
   ]
  },
  {
   "cell_type": "code",
   "execution_count": 10,
   "id": "255a97a8",
   "metadata": {
    "scrolled": true
   },
   "outputs": [],
   "source": [
    "#change the name, and trim our dataset to our required columns\n",
    "df['close_friends'] = df['CONNECTION_social_num_close_friends']\n",
    "df['drive_friend'] = df['CONNECTION_close_friends_same_area_15_min_drive'] #this is used later\n",
    "df = df[['lang_barrier', 'close_friends', 'drive_friend']]"
   ]
  },
  {
   "cell_type": "markdown",
   "id": "cf44e86c",
   "metadata": {},
   "source": [
    "## Step 2: Visualization"
   ]
  },
  {
   "cell_type": "code",
   "execution_count": 11,
   "id": "7064d23a",
   "metadata": {
    "scrolled": false
   },
   "outputs": [
    {
     "data": {
      "image/png": "[encoded data removed]",
      "text/plain": [
       "<Figure size 640x480 with 1 Axes>"
      ]
     },
     "metadata": {},
     "output_type": "display_data"
    }
   ],
   "source": [
    "sns.violinplot(x='lang_barrier', y='close_friends', data=df)\n",
    "plt.show()"
   ]
  },
  {
   "cell_type": "markdown",
   "id": "2b4ac3b5",
   "metadata": {},
   "source": [
    "Here we can see a little bit about the distribution for the number of close friends report based on if they feel a language barrier, however we have a lot of outliers that \"smoosh\" our dataset, making it hard to appreciate the differences. Lets trim the data to plot only the central 95% of the data."
   ]
  },
  {
   "cell_type": "code",
   "execution_count": 12,
   "id": "7da797a3",
   "metadata": {},
   "outputs": [],
   "source": [
    "Q1 = df['close_friends'].quantile(0.25)\n",
    "Q3 = df['close_friends'].quantile(0.75)\n",
    "IQR = Q3 - Q1\n",
    "\n",
    "lower_bound = Q1 - 1.5 * IQR\n",
    "upper_bound = Q3 + 1.5 * IQR"
   ]
  },
  {
   "cell_type": "code",
   "execution_count": 13,
   "id": "d852e4e3",
   "metadata": {
    "scrolled": true
   },
   "outputs": [
    {
     "data": {
      "image/png": "[encoded data removed]",
      "text/plain": [
       "<Figure size 640x480 with 1 Axes>"
      ]
     },
     "metadata": {},
     "output_type": "display_data"
    }
   ],
   "source": [
    "sns.violinplot(x='lang_barrier', y='close_friends', data=df[(df['close_friends'] >= lower_bound) & (df['close_friends'] <= upper_bound)])\n",
    "plt.show()"
   ]
  },
  {
   "cell_type": "markdown",
   "id": "4cca2a7b",
   "metadata": {},
   "source": [
    "This gives us a little bit more clarity on the majority of the data. Interestingly, although the spread of close friend count is a bit more spread out for the language barrier, it also seems like it might have a slightly larger mean."
   ]
  },
  {
   "cell_type": "code",
   "execution_count": 14,
   "id": "c1bb748c",
   "metadata": {
    "scrolled": true
   },
   "outputs": [
    {
     "name": "stdout",
     "output_type": "stream",
     "text": [
      "              count      mean       std  min  25%  50%  75%   max\n",
      "lang_barrier                                                     \n",
      "0             530.0  4.809434  5.146209  0.0  2.0  4.0  6.0  50.0\n",
      "1              49.0  6.775510  8.930904  0.0  3.0  5.0  7.0  60.0\n"
     ]
    }
   ],
   "source": [
    "print(df.groupby('lang_barrier')['close_friends'].describe())"
   ]
  },
  {
   "cell_type": "markdown",
   "id": "d1d6755b",
   "metadata": {},
   "source": [
    "Interestingly, it seems that this is true. We will examine more about this later in the analysis."
   ]
  },
  {
   "cell_type": "markdown",
   "id": "0b22117a",
   "metadata": {},
   "source": [
    "## Step 3: Analysis"
   ]
  },
  {
   "cell_type": "markdown",
   "id": "c2149ea9",
   "metadata": {},
   "source": [
    "Now that we have an idea of what the data looks like, lets see if we can test our hypothesis using statistical analysis. Our method of choice here will be permutation testing, which tests to see if the language barrier is present by randomizing the input, and seeing if that changes our outputs. Let us begin by getting a difference between the means of the groups (we saw this before)."
   ]
  },
  {
   "cell_type": "code",
   "execution_count": 15,
   "id": "f4d4e15b",
   "metadata": {},
   "outputs": [
    {
     "name": "stdout",
     "output_type": "stream",
     "text": [
      "1.9660762418174818\n"
     ]
    }
   ],
   "source": [
    "observed_diff = df[df['lang_barrier'] == 1]['close_friends'].mean() - df[df['lang_barrier'] == 0]['close_friends'].mean()\n",
    "print(observed_diff)"
   ]
  },
  {
   "cell_type": "markdown",
   "id": "4fa00aad",
   "metadata": {},
   "source": [
    "Now we will perform our perm testing. Let us assume our null hypothesis is \"there is no correlation between language barrier and the number of close friends someone has\"."
   ]
  },
  {
   "cell_type": "code",
   "execution_count": 16,
   "id": "26c97880",
   "metadata": {
    "scrolled": true
   },
   "outputs": [
    {
     "data": {
      "text/plain": [
       "array([ 0.24936465,  0.60608394,  0.47231421, ..., -0.19653446,\n",
       "       -0.19653446, -0.26341933])"
      ]
     },
     "execution_count": 16,
     "metadata": {},
     "output_type": "execute_result"
    }
   ],
   "source": [
    "perm_diffs = []\n",
    "    \n",
    "for _ in range(10_000):\n",
    "    # randomize the labels\n",
    "    shuffled_labels = np.random.permutation(df['lang_barrier'])\n",
    "\n",
    "    # create a new column with shuffled labels\n",
    "    df.loc[:, 'shuffled_labels'] = shuffled_labels\n",
    "\n",
    "    # calculate the difference in means between the two groups based on shuffled labels\n",
    "    diff = df[df['shuffled_labels'] == 1]['close_friends'].mean() - df[df['shuffled_labels'] == 0]['close_friends'].mean()\n",
    "    perm_diffs.append(diff)\n",
    "    \n",
    "np.array(perm_diffs)"
   ]
  },
  {
   "cell_type": "markdown",
   "id": "3cab11cb",
   "metadata": {},
   "source": [
    "With this list of means, we will now plot them out, and try to construct a confidence interval (I have chosen the confidence interval to be 95%, which is standard). We are trying to see if our observed mean difference is within this interval, where we could accept our null hypothesis."
   ]
  },
  {
   "cell_type": "code",
   "execution_count": 17,
   "id": "fea4db0f",
   "metadata": {},
   "outputs": [
    {
     "data": {
      "image/png": "[encoded data removed]",
      "text/plain": [
       "<Figure size 640x480 with 1 Axes>"
      ]
     },
     "metadata": {},
     "output_type": "display_data"
    }
   ],
   "source": [
    "lower_ci = np.percentile(perm_diffs, 2.5)\n",
    "upper_ci = np.percentile(perm_diffs, 97.5)\n",
    "sns.histplot(perm_diffs, kde=True)\n",
    "plt.axvline(observed_diff, color='red', linestyle='--', label=f'Observed Diff: {observed_diff}')\n",
    "plt.axvline(lower_ci, color='green', linestyle='--', label=f'2.5th percentile: {lower_ci}')\n",
    "plt.axvline(upper_ci, color='green', linestyle='--', label=f'97.5th percentile: {upper_ci}')\n",
    "plt.title('Permutation Distribution of Differences in Means')\n",
    "plt.xlabel('Difference in Means')\n",
    "plt.legend()\n",
    "plt.show()"
   ]
  },
  {
   "cell_type": "markdown",
   "id": "608dd4ff",
   "metadata": {},
   "source": [
    "From this, we can see that our observed difference does in fact lie outside of our interval, this means that we can safely reject our null hypothesis. This means that we can conclude that there is in fact a correlation between a language barrier and the number of friends that a person has."
   ]
  },
  {
   "cell_type": "code",
   "execution_count": 18,
   "id": "9c382e26",
   "metadata": {},
   "outputs": [
    {
     "name": "stdout",
     "output_type": "stream",
     "text": [
      "Observed Difference in Means: 1.9660762418174818\n",
      "P-value from Permutation Test: 0.0196\n"
     ]
    }
   ],
   "source": [
    "p_value = np.mean(np.abs(perm_diffs) >= np.abs(observed_diff))\n",
    "print(f\"Observed Difference in Means: {observed_diff}\")\n",
    "print(f\"P-value from Permutation Test: {p_value}\")"
   ]
  },
  {
   "cell_type": "markdown",
   "id": "20381970",
   "metadata": {},
   "source": [
    "This analysis makes the same conclusion, with a p value less than 0.05 allowing us to reject the null hypothesis. However, why does a language barrier increase the number of close friends a person has?"
   ]
  },
  {
   "cell_type": "markdown",
   "id": "376e56bc",
   "metadata": {},
   "source": [
    "## Part 4: Interpretation and Secondary Analysis"
   ]
  },
  {
   "cell_type": "markdown",
   "id": "80f1495c",
   "metadata": {},
   "source": [
    "Initially, I assumed that a language barrier would cause friction in social interactions, and result in social isolation. So why is this not the case? I did some investigating on other columns in the dataframe. I'm investigating whether the ratio of close friends that live a short drive away is affected by language barrier. I want to see if the language barrier can cause people to potentially seek out friends further away from them due to a scarcity of speaking the same language as them."
   ]
  },
  {
   "cell_type": "code",
   "execution_count": 19,
   "id": "fba45ec8",
   "metadata": {},
   "outputs": [
    {
     "data": {
      "text/plain": [
       "drive_friend\n",
       "A few of them (i.e., 0-20%)           210\n",
       "Some of them (i.e., 21-40%)            98\n",
       "Around half of them (i.e., 41-60%)     82\n",
       "Nearly all of them (i.e., 80-100%)     71\n",
       "Most of them (i.e., 61-80%)            61\n",
       "Presented but no response              57\n",
       "Name: count, dtype: int64"
      ]
     },
     "execution_count": 19,
     "metadata": {},
     "output_type": "execute_result"
    }
   ],
   "source": [
    "df['drive_friend'].value_counts()"
   ]
  },
  {
   "cell_type": "code",
   "execution_count": 20,
   "id": "b1560e60",
   "metadata": {},
   "outputs": [],
   "source": [
    "df.loc[:,'drive_friend'] = df['drive_friend'].map({\"A few of them (i.e., 0-20%)\": 0.1, \"Some of them (i.e., 21-40%)\": 0.3, \"Around half of them (i.e., 41-60%)\":0.5, \"Most of them (i.e., 61-80%)\": 0.7, \"Nearly all of them (i.e., 80-100%)\":0.9})"
   ]
  },
  {
   "cell_type": "code",
   "execution_count": 28,
   "id": "0d86869b",
   "metadata": {
    "scrolled": true
   },
   "outputs": [
    {
     "data": {
      "image/png": "[encoded data removed]",
      "text/plain": [
       "<Figure size 640x480 with 1 Axes>"
      ]
     },
     "metadata": {},
     "output_type": "display_data"
    }
   ],
   "source": [
    "df['drive_friend'].value_counts().plot(kind='bar')\n",
    "plt.xlabel('Percentage of close friends who live close')\n",
    "plt.ylabel('Count')\n",
    "plt.show()"
   ]
  },
  {
   "cell_type": "markdown",
   "id": "741e3bf6",
   "metadata": {},
   "source": [
    "Now I'll do the permutation testing again but with the new output category. Here our null hypothesis is similar, being \"there is no correlation between the presence of a language barrier and the distance of close friends\"."
   ]
  },
  {
   "cell_type": "code",
   "execution_count": 22,
   "id": "ea11a7e7",
   "metadata": {},
   "outputs": [],
   "source": [
    "perm_diffs = []\n",
    "    \n",
    "for _ in range(10_000):\n",
    "    # randomize the labels\n",
    "    shuffled_labels = np.random.permutation(df['lang_barrier'])\n",
    "\n",
    "    # create a new column with shuffled labels\n",
    "    df.loc[:, 'shuffled_labels'] = shuffled_labels\n",
    "\n",
    "    # calculate the difference in means between the two groups based on shuffled labels\n",
    "    diff = df[df['shuffled_labels'] == 1]['drive_friend'].mean() - df[df['shuffled_labels'] == 0]['drive_friend'].mean()\n",
    "    perm_diffs.append(diff)\n",
    "    \n",
    "np.array(perm_diffs)\n",
    "observed_diff = df[df['lang_barrier'] == 1]['drive_friend'].mean() - df[df['lang_barrier'] == 0]['drive_friend'].mean()"
   ]
  },
  {
   "cell_type": "code",
   "execution_count": 23,
   "id": "0d061269",
   "metadata": {},
   "outputs": [
    {
     "data": {
      "image/png": "[encoded data removed]",
      "text/plain": [
       "<Figure size 640x480 with 1 Axes>"
      ]
     },
     "metadata": {},
     "output_type": "display_data"
    }
   ],
   "source": [
    "lower_ci = np.percentile(perm_diffs, 2.5)\n",
    "upper_ci = np.percentile(perm_diffs, 97.5)\n",
    "sns.histplot(perm_diffs, kde=True)\n",
    "plt.axvline(observed_diff, color='red', linestyle='--', label=f'Observed Diff: {observed_diff}')\n",
    "plt.axvline(lower_ci, color='green', linestyle='--', label=f'2.5th percentile: {lower_ci}')\n",
    "plt.axvline(upper_ci, color='green', linestyle='--', label=f'97.5th percentile: {upper_ci}')\n",
    "plt.title('Permutation Distribution of Differences in Means')\n",
    "plt.xlabel('Difference in Means')\n",
    "plt.legend()\n",
    "plt.show()"
   ]
  },
  {
   "cell_type": "markdown",
   "id": "f6525773",
   "metadata": {},
   "source": [
    "Interestingly, here we see our observed difference fall right into our interval, which means that our null hypothesis is true, and there is no correlation. So the people who experience language barriers make more close friends in their community than those who don't."
   ]
  },
  {
   "cell_type": "markdown",
   "id": "818e466a",
   "metadata": {},
   "source": [
    "To speculate about my results, I'm lead to believe that the reason why people with language barriers have more close friends is actually for the same reason I initially hypothesized. I think that with social isolation from communication issues, these people find stronger kinship between other people who speak their language, and maybe the fewer social interections might result in more meaningful ones. \n",
    "Another potential cause for language barriers could be cultural. It's unclear."
   ]
  }
 ],
 "metadata": {
  "kernelspec": {
   "display_name": "Python 3 (ipykernel)",
   "language": "python",
   "name": "python3"
  },
  "language_info": {
   "codemirror_mode": {
    "name": "ipython",
    "version": 3
   },
   "file_extension": ".py",
   "mimetype": "text/x-python",
   "name": "python",
   "nbconvert_exporter": "python",
   "pygments_lexer": "ipython3",
   "version": "3.11.6"
  }
 },
 "nbformat": 4,
 "nbformat_minor": 5
}
